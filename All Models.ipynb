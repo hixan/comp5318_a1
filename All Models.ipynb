{
 "cells": [
  {
   "cell_type": "code",
   "execution_count": 90,
   "metadata": {},
   "outputs": [],
   "source": [
    "from comp5318_assignment1 import models, model_tools, decomposition\n",
    "import operator as op\n",
    "import numpy as np\n",
    "import seaborn as sns\n",
    "from matplotlib import pyplot as plt"
   ]
  },
  {
   "cell_type": "code",
   "execution_count": 104,
   "metadata": {},
   "outputs": [
    {
     "ename": "KeyboardInterrupt",
     "evalue": "",
     "output_type": "error",
     "traceback": [
      "\u001b[0;31m---------------------------------------------------------------------------\u001b[0m",
      "\u001b[0;31mKeyboardInterrupt\u001b[0m                         Traceback (most recent call last)",
      "\u001b[0;32m<ipython-input-104-3c49833c5d8d>\u001b[0m in \u001b[0;36m<module>\u001b[0;34m\u001b[0m\n\u001b[1;32m      1\u001b[0m \u001b[0mmr\u001b[0m \u001b[0;34m=\u001b[0m \u001b[0mmodel_tools\u001b[0m\u001b[0;34m.\u001b[0m\u001b[0mModelRunner\u001b[0m\u001b[0;34m(\u001b[0m\u001b[0mmodels\u001b[0m\u001b[0;34m.\u001b[0m\u001b[0mKNN\u001b[0m\u001b[0;34m(\u001b[0m\u001b[0;36m6\u001b[0m\u001b[0;34m,\u001b[0m \u001b[0mdistancefunction\u001b[0m\u001b[0;34m=\u001b[0m\u001b[0;34m'manhatten'\u001b[0m\u001b[0;34m)\u001b[0m\u001b[0;34m)\u001b[0m\u001b[0;34m\u001b[0m\u001b[0;34m\u001b[0m\u001b[0m\n\u001b[0;32m----> 2\u001b[0;31m \u001b[0mres\u001b[0m \u001b[0;34m=\u001b[0m \u001b[0mmr\u001b[0m\u001b[0;34m.\u001b[0m\u001b[0mrun\u001b[0m\u001b[0;34m(\u001b[0m\u001b[0;34m)\u001b[0m\u001b[0;34m\u001b[0m\u001b[0;34m\u001b[0m\u001b[0m\n\u001b[0m\u001b[1;32m      3\u001b[0m \u001b[0mprint\u001b[0m\u001b[0;34m(\u001b[0m\u001b[0mytr\u001b[0m\u001b[0;34m)\u001b[0m\u001b[0;34m\u001b[0m\u001b[0;34m\u001b[0m\u001b[0m\n",
      "\u001b[0;32m~/Documents/Uni/2020-2/ml-5318/assignment_1/comp5318_assignment1/model_tools.py\u001b[0m in \u001b[0;36mrun\u001b[0;34m(self, n, verbose)\u001b[0m\n\u001b[1;32m    214\u001b[0m                 \u001b[0;32mcontinue\u001b[0m  \u001b[0;31m# skip this model\u001b[0m\u001b[0;34m\u001b[0m\u001b[0;34m\u001b[0m\u001b[0m\n\u001b[1;32m    215\u001b[0m             results[str(model)] = CrossValidateClassification.metrics(\n\u001b[0;32m--> 216\u001b[0;31m                     \u001b[0mself\u001b[0m\u001b[0;34m.\u001b[0m\u001b[0myte\u001b[0m\u001b[0;34m[\u001b[0m\u001b[0;34m:\u001b[0m\u001b[0mn\u001b[0m\u001b[0;34m]\u001b[0m\u001b[0;34m,\u001b[0m \u001b[0mmodel\u001b[0m\u001b[0;34m.\u001b[0m\u001b[0mpredict\u001b[0m\u001b[0;34m(\u001b[0m\u001b[0mself\u001b[0m\u001b[0;34m.\u001b[0m\u001b[0mxte\u001b[0m\u001b[0;34m[\u001b[0m\u001b[0;34m:\u001b[0m\u001b[0mn\u001b[0m\u001b[0;34m]\u001b[0m\u001b[0;34m)\u001b[0m\u001b[0;34m\u001b[0m\u001b[0;34m\u001b[0m\u001b[0m\n\u001b[0m\u001b[1;32m    217\u001b[0m             )\n\u001b[1;32m    218\u001b[0m             \u001b[0;32mif\u001b[0m \u001b[0mverbose\u001b[0m\u001b[0;34m:\u001b[0m\u001b[0;34m\u001b[0m\u001b[0;34m\u001b[0m\u001b[0m\n",
      "\u001b[0;32m~/Documents/Uni/2020-2/ml-5318/assignment_1/comp5318_assignment1/models.py\u001b[0m in \u001b[0;36mpredict\u001b[0;34m(self, x, batchsize, k, dists, return_dists)\u001b[0m\n\u001b[1;32m    169\u001b[0m             \u001b[0;32mfor\u001b[0m \u001b[0mbatch\u001b[0m \u001b[0;32min\u001b[0m \u001b[0mbreakup\u001b[0m\u001b[0;34m(\u001b[0m\u001b[0mx\u001b[0m\u001b[0;34m,\u001b[0m \u001b[0mbatchsize\u001b[0m\u001b[0;34m)\u001b[0m\u001b[0;34m:\u001b[0m\u001b[0;34m\u001b[0m\u001b[0;34m\u001b[0m\u001b[0m\n\u001b[1;32m    170\u001b[0m \u001b[0;34m\u001b[0m\u001b[0m\n\u001b[0;32m--> 171\u001b[0;31m                 \u001b[0mall_dists\u001b[0m\u001b[0;34m.\u001b[0m\u001b[0mappend\u001b[0m\u001b[0;34m(\u001b[0m\u001b[0mself\u001b[0m\u001b[0;34m.\u001b[0m\u001b[0mdistfn\u001b[0m\u001b[0;34m(\u001b[0m\u001b[0mbatch\u001b[0m\u001b[0;34m,\u001b[0m \u001b[0mself\u001b[0m\u001b[0;34m.\u001b[0m\u001b[0mx\u001b[0m\u001b[0;34m)\u001b[0m\u001b[0;34m)\u001b[0m\u001b[0;34m\u001b[0m\u001b[0;34m\u001b[0m\u001b[0m\n\u001b[0m\u001b[1;32m    172\u001b[0m             \u001b[0mall_dists\u001b[0m \u001b[0;34m=\u001b[0m \u001b[0mnp\u001b[0m\u001b[0;34m.\u001b[0m\u001b[0mconcatenate\u001b[0m\u001b[0;34m(\u001b[0m\u001b[0mall_dists\u001b[0m\u001b[0;34m)\u001b[0m\u001b[0;34m\u001b[0m\u001b[0;34m\u001b[0m\u001b[0m\n\u001b[1;32m    173\u001b[0m         \u001b[0;32melse\u001b[0m\u001b[0;34m:\u001b[0m\u001b[0;34m\u001b[0m\u001b[0;34m\u001b[0m\u001b[0m\n",
      "\u001b[0;32m~/Documents/Uni/2020-2/ml-5318/assignment_1/comp5318_assignment1/models.py\u001b[0m in \u001b[0;36m<lambda>\u001b[0;34m(x, y)\u001b[0m\n\u001b[1;32m    154\u001b[0m         self.distfn = {\n\u001b[1;32m    155\u001b[0m                 \u001b[0;34m'euclidian'\u001b[0m\u001b[0;34m:\u001b[0m \u001b[0;32mlambda\u001b[0m \u001b[0mx\u001b[0m\u001b[0;34m,\u001b[0m \u001b[0my\u001b[0m\u001b[0;34m:\u001b[0m \u001b[0mnp\u001b[0m\u001b[0;34m.\u001b[0m\u001b[0mlinalg\u001b[0m\u001b[0;34m.\u001b[0m\u001b[0mnorm\u001b[0m\u001b[0;34m(\u001b[0m\u001b[0mx\u001b[0m\u001b[0;34m[\u001b[0m\u001b[0;34m:\u001b[0m\u001b[0;34m,\u001b[0m \u001b[0;32mNone\u001b[0m\u001b[0;34m,\u001b[0m \u001b[0;34m:\u001b[0m\u001b[0;34m]\u001b[0m \u001b[0;34m-\u001b[0m \u001b[0my\u001b[0m\u001b[0;34m[\u001b[0m\u001b[0;32mNone\u001b[0m\u001b[0;34m,\u001b[0m \u001b[0;34m:\u001b[0m\u001b[0;34m,\u001b[0m \u001b[0;34m:\u001b[0m\u001b[0;34m]\u001b[0m\u001b[0;34m,\u001b[0m \u001b[0maxis\u001b[0m\u001b[0;34m=\u001b[0m\u001b[0;36m2\u001b[0m\u001b[0;34m)\u001b[0m\u001b[0;34m,\u001b[0m\u001b[0;34m\u001b[0m\u001b[0;34m\u001b[0m\u001b[0m\n\u001b[0;32m--> 156\u001b[0;31m                 \u001b[0;34m'manhatten'\u001b[0m\u001b[0;34m:\u001b[0m \u001b[0;32mlambda\u001b[0m \u001b[0mx\u001b[0m\u001b[0;34m,\u001b[0m \u001b[0my\u001b[0m\u001b[0;34m:\u001b[0m\u001b[0mnp\u001b[0m\u001b[0;34m.\u001b[0m\u001b[0msum\u001b[0m\u001b[0;34m(\u001b[0m\u001b[0mnp\u001b[0m\u001b[0;34m.\u001b[0m\u001b[0mabs\u001b[0m\u001b[0;34m(\u001b[0m\u001b[0mx\u001b[0m\u001b[0;34m[\u001b[0m\u001b[0;34m:\u001b[0m\u001b[0;34m,\u001b[0m \u001b[0;32mNone\u001b[0m\u001b[0;34m,\u001b[0m \u001b[0;34m:\u001b[0m\u001b[0;34m]\u001b[0m \u001b[0;34m-\u001b[0m \u001b[0my\u001b[0m\u001b[0;34m[\u001b[0m\u001b[0;32mNone\u001b[0m\u001b[0;34m,\u001b[0m \u001b[0;34m:\u001b[0m\u001b[0;34m,\u001b[0m \u001b[0;34m:\u001b[0m\u001b[0;34m]\u001b[0m\u001b[0;34m)\u001b[0m\u001b[0;34m,\u001b[0m \u001b[0maxis\u001b[0m\u001b[0;34m=\u001b[0m\u001b[0;36m2\u001b[0m\u001b[0;34m)\u001b[0m\u001b[0;34m,\u001b[0m\u001b[0;34m\u001b[0m\u001b[0;34m\u001b[0m\u001b[0m\n\u001b[0m\u001b[1;32m    157\u001b[0m                 \u001b[0;34m'cosine'\u001b[0m\u001b[0;34m:\u001b[0m \u001b[0mcosine_distance\u001b[0m\u001b[0;34m,\u001b[0m\u001b[0;34m\u001b[0m\u001b[0;34m\u001b[0m\u001b[0m\n\u001b[1;32m    158\u001b[0m         }[distancefunction]\n",
      "\u001b[0;32m<__array_function__ internals>\u001b[0m in \u001b[0;36msum\u001b[0;34m(*args, **kwargs)\u001b[0m\n",
      "\u001b[0;32m~/.local/lib/python3.8/site-packages/numpy/core/fromnumeric.py\u001b[0m in \u001b[0;36msum\u001b[0;34m(a, axis, dtype, out, keepdims, initial, where)\u001b[0m\n\u001b[1;32m   2239\u001b[0m         \u001b[0;32mreturn\u001b[0m \u001b[0mres\u001b[0m\u001b[0;34m\u001b[0m\u001b[0;34m\u001b[0m\u001b[0m\n\u001b[1;32m   2240\u001b[0m \u001b[0;34m\u001b[0m\u001b[0m\n\u001b[0;32m-> 2241\u001b[0;31m     return _wrapreduction(a, np.add, 'sum', axis, dtype, out, keepdims=keepdims,\n\u001b[0m\u001b[1;32m   2242\u001b[0m                           initial=initial, where=where)\n\u001b[1;32m   2243\u001b[0m \u001b[0;34m\u001b[0m\u001b[0m\n",
      "\u001b[0;32m~/.local/lib/python3.8/site-packages/numpy/core/fromnumeric.py\u001b[0m in \u001b[0;36m_wrapreduction\u001b[0;34m(obj, ufunc, method, axis, dtype, out, **kwargs)\u001b[0m\n\u001b[1;32m     85\u001b[0m                 \u001b[0;32mreturn\u001b[0m \u001b[0mreduction\u001b[0m\u001b[0;34m(\u001b[0m\u001b[0maxis\u001b[0m\u001b[0;34m=\u001b[0m\u001b[0maxis\u001b[0m\u001b[0;34m,\u001b[0m \u001b[0mout\u001b[0m\u001b[0;34m=\u001b[0m\u001b[0mout\u001b[0m\u001b[0;34m,\u001b[0m \u001b[0;34m**\u001b[0m\u001b[0mpasskwargs\u001b[0m\u001b[0;34m)\u001b[0m\u001b[0;34m\u001b[0m\u001b[0;34m\u001b[0m\u001b[0m\n\u001b[1;32m     86\u001b[0m \u001b[0;34m\u001b[0m\u001b[0m\n\u001b[0;32m---> 87\u001b[0;31m     \u001b[0;32mreturn\u001b[0m \u001b[0mufunc\u001b[0m\u001b[0;34m.\u001b[0m\u001b[0mreduce\u001b[0m\u001b[0;34m(\u001b[0m\u001b[0mobj\u001b[0m\u001b[0;34m,\u001b[0m \u001b[0maxis\u001b[0m\u001b[0;34m,\u001b[0m \u001b[0mdtype\u001b[0m\u001b[0;34m,\u001b[0m \u001b[0mout\u001b[0m\u001b[0;34m,\u001b[0m \u001b[0;34m**\u001b[0m\u001b[0mpasskwargs\u001b[0m\u001b[0;34m)\u001b[0m\u001b[0;34m\u001b[0m\u001b[0;34m\u001b[0m\u001b[0m\n\u001b[0m\u001b[1;32m     88\u001b[0m \u001b[0;34m\u001b[0m\u001b[0m\n\u001b[1;32m     89\u001b[0m \u001b[0;34m\u001b[0m\u001b[0m\n",
      "\u001b[0;31mKeyboardInterrupt\u001b[0m: "
     ]
    }
   ],
   "source": [
    "mr = model_tools.ModelRunner(models.KNN(6, distancefunction='manhatten'))\n",
    "res = mr.run()\n",
    "print(ytr)"
   ]
  },
  {
   "cell_type": "code",
   "execution_count": 2,
   "metadata": {},
   "outputs": [
    {
     "name": "stdout",
     "output_type": "stream",
     "text": [
      "GNB()\n",
      "KNN(k=1, distancefunction=cosine)\n",
      "KNN(k=1, distancefunction=cosine)\n",
      "KNN(k=1, distancefunction=cosine)\n",
      "Pipeline(PCA(64, False), GNB())\n",
      "Pipeline(PCA(64, False), KNN(k=1, distancefunction=cosine))\n",
      "Pipeline(PCA(64, False), KNN(k=1, distancefunction=cosine))\n",
      "Pipeline(PCA(64, False), KNN(k=1, distancefunction=cosine))\n",
      "Pipeline(PCA(105, False), GNB())\n",
      "Pipeline(PCA(105, False), KNN(k=1, distancefunction=cosine))\n",
      "Pipeline(PCA(105, False), KNN(k=1, distancefunction=cosine))\n",
      "Pipeline(PCA(105, False), KNN(k=1, distancefunction=cosine))\n",
      "Pipeline(NMF(50), GNB())\n",
      "Pipeline(NMF(50), KNN(k=1, distancefunction=cosine))\n",
      "Pipeline(NMF(50), KNN(k=1, distancefunction=cosine))\n",
      "Pipeline(NMF(50), KNN(k=1, distancefunction=cosine))\n",
      "16\n"
     ]
    }
   ],
   "source": [
    "predictors = [models.GNB]\n",
    "ks = [6, 51, 101, 201]\n",
    "\n",
    "for d in ['euclidian', 'manhatten', 'cosine']:\n",
    "    predictors.append(lambda : models.KNN(k=1, distancefunction=d, weigh_voting=True))\n",
    "    predictors[-1].is_knn = True\n",
    "    \n",
    "\n",
    "reductions = [\n",
    "    None,\n",
    "    decomposition.PCA(64, normalize=False),\n",
    "    decomposition.PCA(105, normalize=False),\n",
    "    decomposition.NMF(50)\n",
    "]\n",
    "\n",
    "models_to_test = []\n",
    "for red in reductions:\n",
    "    for pred in predictors:\n",
    "        if red is None:\n",
    "            models_to_test.append(pred())\n",
    "        else:\n",
    "            models_to_test.append(\n",
    "                model_tools.Pipeline(\n",
    "                    [\n",
    "                        (str(red), red),\n",
    "                        (str(pred()), pred())\n",
    "                    ]\n",
    "                )\n",
    "            )\n",
    "print(*map(str, models_to_test), sep='\\n')\n",
    "print(len(models_to_test))\n",
    "for m in models_to_test:\n",
    "    m.is_knn = 'KNN' in str(m)"
   ]
  },
  {
   "cell_type": "code",
   "execution_count": 3,
   "metadata": {
    "scrolled": true
   },
   "outputs": [
    {
     "name": "stdout",
     "output_type": "stream",
     "text": [
      "training GNB()\n",
      "training KNN(k=1, distancefunction=cosine)\n",
      "training KNN(k=1, distancefunction=cosine)\n",
      "training KNN(k=1, distancefunction=cosine)\n",
      "training Pipeline(PCA(64, False), GNB())\n",
      "training Pipeline(PCA(64, False), KNN(k=1, distancefunction=cosine))\n",
      "training Pipeline(PCA(64, False), KNN(k=1, distancefunction=cosine))\n",
      "training Pipeline(PCA(64, False), KNN(k=1, distancefunction=cosine))\n",
      "training Pipeline(PCA(105, False), GNB())\n",
      "training Pipeline(PCA(105, False), KNN(k=1, distancefunction=cosine))\n",
      "training Pipeline(PCA(105, False), KNN(k=1, distancefunction=cosine))\n",
      "training Pipeline(PCA(105, False), KNN(k=1, distancefunction=cosine))\n",
      "training Pipeline(NMF(50), GNB())\n",
      "training Pipeline(NMF(50), KNN(k=1, distancefunction=cosine))\n",
      "training Pipeline(NMF(50), KNN(k=1, distancefunction=cosine))\n",
      "training Pipeline(NMF(50), KNN(k=1, distancefunction=cosine))\n",
      "predicting GNB()\n"
     ]
    },
    {
     "name": "stderr",
     "output_type": "stream",
     "text": [
      "/home/alexe/Documents/Uni/2020-2/ml-5318/assignment_1/comp5318_assignment1/models.py:76: RuntimeWarning: divide by zero encountered in log\n",
      "  conditionalprobs = np.sum(np.log(ind_probs), axis=1)\n"
     ]
    },
    {
     "name": "stdout",
     "output_type": "stream",
     "text": [
      "{'modelname': 'GNB()', 'accuracy': 0.6195}\n",
      "predicting KNN(k=1, distancefunction=cosine) with k=2\n",
      "{'modelname': 'KNN(k=1, distancefunction=cosine)', 'accuracy': 0.8305, 'k': 1}\n",
      "predicting KNN(k=1, distancefunction=cosine) with k=3\n",
      "{'modelname': 'KNN(k=1, distancefunction=cosine)(different-k)', 'k': 3, 'accuracy': 0.8455}\n",
      "predicting KNN(k=1, distancefunction=cosine) with k=5\n",
      "{'modelname': 'KNN(k=1, distancefunction=cosine)(different-k)', 'k': 5, 'accuracy': 0.841}\n",
      "predicting KNN(k=1, distancefunction=cosine) with k=9\n",
      "{'modelname': 'KNN(k=1, distancefunction=cosine)(different-k)', 'k': 9, 'accuracy': 0.8335}\n",
      "predicting KNN(k=1, distancefunction=cosine) with k=17\n",
      "{'modelname': 'KNN(k=1, distancefunction=cosine)(different-k)', 'k': 17, 'accuracy': 0.828}\n",
      "predicting KNN(k=1, distancefunction=cosine) with k=33\n",
      "{'modelname': 'KNN(k=1, distancefunction=cosine)(different-k)', 'k': 33, 'accuracy': 0.8155}\n",
      "predicting KNN(k=1, distancefunction=cosine) with k=65\n",
      "{'modelname': 'KNN(k=1, distancefunction=cosine)(different-k)', 'k': 65, 'accuracy': 0.802}\n",
      "predicting KNN(k=1, distancefunction=cosine) with k=129\n",
      "{'modelname': 'KNN(k=1, distancefunction=cosine)(different-k)', 'k': 129, 'accuracy': 0.7865}\n",
      "predicting KNN(k=1, distancefunction=cosine) with k=2\n",
      "{'modelname': 'KNN(k=1, distancefunction=cosine)', 'accuracy': 0.8305, 'k': 1}\n",
      "predicting KNN(k=1, distancefunction=cosine) with k=3\n",
      "{'modelname': 'KNN(k=1, distancefunction=cosine)(different-k)', 'k': 3, 'accuracy': 0.8455}\n",
      "predicting KNN(k=1, distancefunction=cosine) with k=5\n",
      "{'modelname': 'KNN(k=1, distancefunction=cosine)(different-k)', 'k': 5, 'accuracy': 0.841}\n",
      "predicting KNN(k=1, distancefunction=cosine) with k=9\n",
      "{'modelname': 'KNN(k=1, distancefunction=cosine)(different-k)', 'k': 9, 'accuracy': 0.8335}\n",
      "predicting KNN(k=1, distancefunction=cosine) with k=17\n",
      "{'modelname': 'KNN(k=1, distancefunction=cosine)(different-k)', 'k': 17, 'accuracy': 0.828}\n",
      "predicting KNN(k=1, distancefunction=cosine) with k=33\n",
      "{'modelname': 'KNN(k=1, distancefunction=cosine)(different-k)', 'k': 33, 'accuracy': 0.8155}\n",
      "predicting KNN(k=1, distancefunction=cosine) with k=65\n",
      "{'modelname': 'KNN(k=1, distancefunction=cosine)(different-k)', 'k': 65, 'accuracy': 0.802}\n",
      "predicting KNN(k=1, distancefunction=cosine) with k=129\n",
      "{'modelname': 'KNN(k=1, distancefunction=cosine)(different-k)', 'k': 129, 'accuracy': 0.7865}\n",
      "predicting KNN(k=1, distancefunction=cosine) with k=2\n",
      "{'modelname': 'KNN(k=1, distancefunction=cosine)', 'accuracy': 0.8305, 'k': 1}\n",
      "predicting KNN(k=1, distancefunction=cosine) with k=3\n",
      "{'modelname': 'KNN(k=1, distancefunction=cosine)(different-k)', 'k': 3, 'accuracy': 0.8455}\n",
      "predicting KNN(k=1, distancefunction=cosine) with k=5\n",
      "{'modelname': 'KNN(k=1, distancefunction=cosine)(different-k)', 'k': 5, 'accuracy': 0.841}\n",
      "predicting KNN(k=1, distancefunction=cosine) with k=9\n",
      "{'modelname': 'KNN(k=1, distancefunction=cosine)(different-k)', 'k': 9, 'accuracy': 0.8335}\n",
      "predicting KNN(k=1, distancefunction=cosine) with k=17\n",
      "{'modelname': 'KNN(k=1, distancefunction=cosine)(different-k)', 'k': 17, 'accuracy': 0.828}\n",
      "predicting KNN(k=1, distancefunction=cosine) with k=33\n",
      "{'modelname': 'KNN(k=1, distancefunction=cosine)(different-k)', 'k': 33, 'accuracy': 0.8155}\n",
      "predicting KNN(k=1, distancefunction=cosine) with k=65\n",
      "{'modelname': 'KNN(k=1, distancefunction=cosine)(different-k)', 'k': 65, 'accuracy': 0.802}\n",
      "predicting KNN(k=1, distancefunction=cosine) with k=129\n",
      "{'modelname': 'KNN(k=1, distancefunction=cosine)(different-k)', 'k': 129, 'accuracy': 0.7865}\n",
      "predicting Pipeline(PCA(64, False), GNB())\n",
      "{'modelname': 'Pipeline(PCA(64, False), GNB())', 'accuracy': 0.7645}\n",
      "predicting Pipeline(PCA(64, False), KNN(k=1, distancefunction=cosine)) with k=2\n",
      "{'modelname': 'Pipeline(PCA(64, False), KNN(k=1, distancefunction=cosine))', 'accuracy': 0.837, 'k': 1}\n",
      "predicting Pipeline(PCA(64, False), KNN(k=1, distancefunction=cosine)) with k=3\n",
      "{'modelname': 'Pipeline(PCA(64, False), KNN(k=1, distancefunction=cosine))(different-k)', 'k': 3, 'accuracy': 0.845}\n",
      "predicting Pipeline(PCA(64, False), KNN(k=1, distancefunction=cosine)) with k=5\n",
      "{'modelname': 'Pipeline(PCA(64, False), KNN(k=1, distancefunction=cosine))(different-k)', 'k': 5, 'accuracy': 0.8425}\n",
      "predicting Pipeline(PCA(64, False), KNN(k=1, distancefunction=cosine)) with k=9\n",
      "{'modelname': 'Pipeline(PCA(64, False), KNN(k=1, distancefunction=cosine))(different-k)', 'k': 9, 'accuracy': 0.8375}\n",
      "predicting Pipeline(PCA(64, False), KNN(k=1, distancefunction=cosine)) with k=17\n",
      "{'modelname': 'Pipeline(PCA(64, False), KNN(k=1, distancefunction=cosine))(different-k)', 'k': 17, 'accuracy': 0.833}\n",
      "predicting Pipeline(PCA(64, False), KNN(k=1, distancefunction=cosine)) with k=33\n",
      "{'modelname': 'Pipeline(PCA(64, False), KNN(k=1, distancefunction=cosine))(different-k)', 'k': 33, 'accuracy': 0.8245}\n",
      "predicting Pipeline(PCA(64, False), KNN(k=1, distancefunction=cosine)) with k=65\n",
      "{'modelname': 'Pipeline(PCA(64, False), KNN(k=1, distancefunction=cosine))(different-k)', 'k': 65, 'accuracy': 0.815}\n",
      "predicting Pipeline(PCA(64, False), KNN(k=1, distancefunction=cosine)) with k=129\n",
      "{'modelname': 'Pipeline(PCA(64, False), KNN(k=1, distancefunction=cosine))(different-k)', 'k': 129, 'accuracy': 0.806}\n",
      "predicting Pipeline(PCA(64, False), KNN(k=1, distancefunction=cosine)) with k=2\n",
      "{'modelname': 'Pipeline(PCA(64, False), KNN(k=1, distancefunction=cosine))', 'accuracy': 0.837, 'k': 1}\n",
      "predicting Pipeline(PCA(64, False), KNN(k=1, distancefunction=cosine)) with k=3\n",
      "{'modelname': 'Pipeline(PCA(64, False), KNN(k=1, distancefunction=cosine))(different-k)', 'k': 3, 'accuracy': 0.845}\n",
      "predicting Pipeline(PCA(64, False), KNN(k=1, distancefunction=cosine)) with k=5\n",
      "{'modelname': 'Pipeline(PCA(64, False), KNN(k=1, distancefunction=cosine))(different-k)', 'k': 5, 'accuracy': 0.8425}\n",
      "predicting Pipeline(PCA(64, False), KNN(k=1, distancefunction=cosine)) with k=9\n",
      "{'modelname': 'Pipeline(PCA(64, False), KNN(k=1, distancefunction=cosine))(different-k)', 'k': 9, 'accuracy': 0.8375}\n",
      "predicting Pipeline(PCA(64, False), KNN(k=1, distancefunction=cosine)) with k=17\n",
      "{'modelname': 'Pipeline(PCA(64, False), KNN(k=1, distancefunction=cosine))(different-k)', 'k': 17, 'accuracy': 0.833}\n",
      "predicting Pipeline(PCA(64, False), KNN(k=1, distancefunction=cosine)) with k=33\n",
      "{'modelname': 'Pipeline(PCA(64, False), KNN(k=1, distancefunction=cosine))(different-k)', 'k': 33, 'accuracy': 0.8245}\n",
      "predicting Pipeline(PCA(64, False), KNN(k=1, distancefunction=cosine)) with k=65\n",
      "{'modelname': 'Pipeline(PCA(64, False), KNN(k=1, distancefunction=cosine))(different-k)', 'k': 65, 'accuracy': 0.815}\n",
      "predicting Pipeline(PCA(64, False), KNN(k=1, distancefunction=cosine)) with k=129\n",
      "{'modelname': 'Pipeline(PCA(64, False), KNN(k=1, distancefunction=cosine))(different-k)', 'k': 129, 'accuracy': 0.806}\n",
      "predicting Pipeline(PCA(64, False), KNN(k=1, distancefunction=cosine)) with k=2\n",
      "{'modelname': 'Pipeline(PCA(64, False), KNN(k=1, distancefunction=cosine))', 'accuracy': 0.837, 'k': 1}\n",
      "predicting Pipeline(PCA(64, False), KNN(k=1, distancefunction=cosine)) with k=3\n",
      "{'modelname': 'Pipeline(PCA(64, False), KNN(k=1, distancefunction=cosine))(different-k)', 'k': 3, 'accuracy': 0.845}\n",
      "predicting Pipeline(PCA(64, False), KNN(k=1, distancefunction=cosine)) with k=5\n",
      "{'modelname': 'Pipeline(PCA(64, False), KNN(k=1, distancefunction=cosine))(different-k)', 'k': 5, 'accuracy': 0.8425}\n",
      "predicting Pipeline(PCA(64, False), KNN(k=1, distancefunction=cosine)) with k=9\n",
      "{'modelname': 'Pipeline(PCA(64, False), KNN(k=1, distancefunction=cosine))(different-k)', 'k': 9, 'accuracy': 0.8375}\n",
      "predicting Pipeline(PCA(64, False), KNN(k=1, distancefunction=cosine)) with k=17\n",
      "{'modelname': 'Pipeline(PCA(64, False), KNN(k=1, distancefunction=cosine))(different-k)', 'k': 17, 'accuracy': 0.833}\n",
      "predicting Pipeline(PCA(64, False), KNN(k=1, distancefunction=cosine)) with k=33\n",
      "{'modelname': 'Pipeline(PCA(64, False), KNN(k=1, distancefunction=cosine))(different-k)', 'k': 33, 'accuracy': 0.8245}\n",
      "predicting Pipeline(PCA(64, False), KNN(k=1, distancefunction=cosine)) with k=65\n",
      "{'modelname': 'Pipeline(PCA(64, False), KNN(k=1, distancefunction=cosine))(different-k)', 'k': 65, 'accuracy': 0.815}\n",
      "predicting Pipeline(PCA(64, False), KNN(k=1, distancefunction=cosine)) with k=129\n"
     ]
    },
    {
     "name": "stdout",
     "output_type": "stream",
     "text": [
      "{'modelname': 'Pipeline(PCA(64, False), KNN(k=1, distancefunction=cosine))(different-k)', 'k': 129, 'accuracy': 0.806}\n",
      "predicting Pipeline(PCA(105, False), GNB())\n",
      "{'modelname': 'Pipeline(PCA(105, False), GNB())', 'accuracy': 0.753}\n",
      "predicting Pipeline(PCA(105, False), KNN(k=1, distancefunction=cosine)) with k=2\n",
      "{'modelname': 'Pipeline(PCA(105, False), KNN(k=1, distancefunction=cosine))', 'accuracy': 0.8405, 'k': 1}\n",
      "predicting Pipeline(PCA(105, False), KNN(k=1, distancefunction=cosine)) with k=3\n",
      "{'modelname': 'Pipeline(PCA(105, False), KNN(k=1, distancefunction=cosine))(different-k)', 'k': 3, 'accuracy': 0.8485}\n",
      "predicting Pipeline(PCA(105, False), KNN(k=1, distancefunction=cosine)) with k=5\n",
      "{'modelname': 'Pipeline(PCA(105, False), KNN(k=1, distancefunction=cosine))(different-k)', 'k': 5, 'accuracy': 0.842}\n",
      "predicting Pipeline(PCA(105, False), KNN(k=1, distancefunction=cosine)) with k=9\n",
      "{'modelname': 'Pipeline(PCA(105, False), KNN(k=1, distancefunction=cosine))(different-k)', 'k': 9, 'accuracy': 0.8425}\n",
      "predicting Pipeline(PCA(105, False), KNN(k=1, distancefunction=cosine)) with k=17\n",
      "{'modelname': 'Pipeline(PCA(105, False), KNN(k=1, distancefunction=cosine))(different-k)', 'k': 17, 'accuracy': 0.836}\n",
      "predicting Pipeline(PCA(105, False), KNN(k=1, distancefunction=cosine)) with k=33\n",
      "{'modelname': 'Pipeline(PCA(105, False), KNN(k=1, distancefunction=cosine))(different-k)', 'k': 33, 'accuracy': 0.827}\n",
      "predicting Pipeline(PCA(105, False), KNN(k=1, distancefunction=cosine)) with k=65\n",
      "{'modelname': 'Pipeline(PCA(105, False), KNN(k=1, distancefunction=cosine))(different-k)', 'k': 65, 'accuracy': 0.813}\n",
      "predicting Pipeline(PCA(105, False), KNN(k=1, distancefunction=cosine)) with k=129\n",
      "{'modelname': 'Pipeline(PCA(105, False), KNN(k=1, distancefunction=cosine))(different-k)', 'k': 129, 'accuracy': 0.804}\n",
      "predicting Pipeline(PCA(105, False), KNN(k=1, distancefunction=cosine)) with k=2\n",
      "{'modelname': 'Pipeline(PCA(105, False), KNN(k=1, distancefunction=cosine))', 'accuracy': 0.8405, 'k': 1}\n",
      "predicting Pipeline(PCA(105, False), KNN(k=1, distancefunction=cosine)) with k=3\n",
      "{'modelname': 'Pipeline(PCA(105, False), KNN(k=1, distancefunction=cosine))(different-k)', 'k': 3, 'accuracy': 0.8485}\n",
      "predicting Pipeline(PCA(105, False), KNN(k=1, distancefunction=cosine)) with k=5\n",
      "{'modelname': 'Pipeline(PCA(105, False), KNN(k=1, distancefunction=cosine))(different-k)', 'k': 5, 'accuracy': 0.842}\n",
      "predicting Pipeline(PCA(105, False), KNN(k=1, distancefunction=cosine)) with k=9\n",
      "{'modelname': 'Pipeline(PCA(105, False), KNN(k=1, distancefunction=cosine))(different-k)', 'k': 9, 'accuracy': 0.8425}\n",
      "predicting Pipeline(PCA(105, False), KNN(k=1, distancefunction=cosine)) with k=17\n",
      "{'modelname': 'Pipeline(PCA(105, False), KNN(k=1, distancefunction=cosine))(different-k)', 'k': 17, 'accuracy': 0.836}\n",
      "predicting Pipeline(PCA(105, False), KNN(k=1, distancefunction=cosine)) with k=33\n",
      "{'modelname': 'Pipeline(PCA(105, False), KNN(k=1, distancefunction=cosine))(different-k)', 'k': 33, 'accuracy': 0.827}\n",
      "predicting Pipeline(PCA(105, False), KNN(k=1, distancefunction=cosine)) with k=65\n",
      "{'modelname': 'Pipeline(PCA(105, False), KNN(k=1, distancefunction=cosine))(different-k)', 'k': 65, 'accuracy': 0.813}\n",
      "predicting Pipeline(PCA(105, False), KNN(k=1, distancefunction=cosine)) with k=129\n",
      "{'modelname': 'Pipeline(PCA(105, False), KNN(k=1, distancefunction=cosine))(different-k)', 'k': 129, 'accuracy': 0.804}\n",
      "predicting Pipeline(PCA(105, False), KNN(k=1, distancefunction=cosine)) with k=2\n",
      "{'modelname': 'Pipeline(PCA(105, False), KNN(k=1, distancefunction=cosine))', 'accuracy': 0.8405, 'k': 1}\n",
      "predicting Pipeline(PCA(105, False), KNN(k=1, distancefunction=cosine)) with k=3\n",
      "{'modelname': 'Pipeline(PCA(105, False), KNN(k=1, distancefunction=cosine))(different-k)', 'k': 3, 'accuracy': 0.8485}\n",
      "predicting Pipeline(PCA(105, False), KNN(k=1, distancefunction=cosine)) with k=5\n",
      "{'modelname': 'Pipeline(PCA(105, False), KNN(k=1, distancefunction=cosine))(different-k)', 'k': 5, 'accuracy': 0.842}\n",
      "predicting Pipeline(PCA(105, False), KNN(k=1, distancefunction=cosine)) with k=9\n",
      "{'modelname': 'Pipeline(PCA(105, False), KNN(k=1, distancefunction=cosine))(different-k)', 'k': 9, 'accuracy': 0.8425}\n",
      "predicting Pipeline(PCA(105, False), KNN(k=1, distancefunction=cosine)) with k=17\n",
      "{'modelname': 'Pipeline(PCA(105, False), KNN(k=1, distancefunction=cosine))(different-k)', 'k': 17, 'accuracy': 0.836}\n",
      "predicting Pipeline(PCA(105, False), KNN(k=1, distancefunction=cosine)) with k=33\n",
      "{'modelname': 'Pipeline(PCA(105, False), KNN(k=1, distancefunction=cosine))(different-k)', 'k': 33, 'accuracy': 0.827}\n",
      "predicting Pipeline(PCA(105, False), KNN(k=1, distancefunction=cosine)) with k=65\n",
      "{'modelname': 'Pipeline(PCA(105, False), KNN(k=1, distancefunction=cosine))(different-k)', 'k': 65, 'accuracy': 0.813}\n",
      "predicting Pipeline(PCA(105, False), KNN(k=1, distancefunction=cosine)) with k=129\n",
      "{'modelname': 'Pipeline(PCA(105, False), KNN(k=1, distancefunction=cosine))(different-k)', 'k': 129, 'accuracy': 0.804}\n",
      "predicting Pipeline(NMF(50), GNB())\n",
      "{'modelname': 'Pipeline(NMF(50), GNB())', 'accuracy': 0.675}\n",
      "predicting Pipeline(NMF(50), KNN(k=1, distancefunction=cosine)) with k=2\n",
      "{'modelname': 'Pipeline(NMF(50), KNN(k=1, distancefunction=cosine))', 'accuracy': 0.7955, 'k': 1}\n",
      "predicting Pipeline(NMF(50), KNN(k=1, distancefunction=cosine)) with k=3\n",
      "{'modelname': 'Pipeline(NMF(50), KNN(k=1, distancefunction=cosine))(different-k)', 'k': 3, 'accuracy': 0.808}\n",
      "predicting Pipeline(NMF(50), KNN(k=1, distancefunction=cosine)) with k=5\n",
      "{'modelname': 'Pipeline(NMF(50), KNN(k=1, distancefunction=cosine))(different-k)', 'k': 5, 'accuracy': 0.8035}\n",
      "predicting Pipeline(NMF(50), KNN(k=1, distancefunction=cosine)) with k=9\n",
      "{'modelname': 'Pipeline(NMF(50), KNN(k=1, distancefunction=cosine))(different-k)', 'k': 9, 'accuracy': 0.808}\n",
      "predicting Pipeline(NMF(50), KNN(k=1, distancefunction=cosine)) with k=17\n",
      "{'modelname': 'Pipeline(NMF(50), KNN(k=1, distancefunction=cosine))(different-k)', 'k': 17, 'accuracy': 0.792}\n",
      "predicting Pipeline(NMF(50), KNN(k=1, distancefunction=cosine)) with k=33\n",
      "{'modelname': 'Pipeline(NMF(50), KNN(k=1, distancefunction=cosine))(different-k)', 'k': 33, 'accuracy': 0.778}\n",
      "predicting Pipeline(NMF(50), KNN(k=1, distancefunction=cosine)) with k=65\n",
      "{'modelname': 'Pipeline(NMF(50), KNN(k=1, distancefunction=cosine))(different-k)', 'k': 65, 'accuracy': 0.7665}\n",
      "predicting Pipeline(NMF(50), KNN(k=1, distancefunction=cosine)) with k=129\n",
      "{'modelname': 'Pipeline(NMF(50), KNN(k=1, distancefunction=cosine))(different-k)', 'k': 129, 'accuracy': 0.756}\n",
      "predicting Pipeline(NMF(50), KNN(k=1, distancefunction=cosine)) with k=2\n",
      "{'modelname': 'Pipeline(NMF(50), KNN(k=1, distancefunction=cosine))', 'accuracy': 0.797, 'k': 1}\n",
      "predicting Pipeline(NMF(50), KNN(k=1, distancefunction=cosine)) with k=3\n",
      "{'modelname': 'Pipeline(NMF(50), KNN(k=1, distancefunction=cosine))(different-k)', 'k': 3, 'accuracy': 0.8065}\n",
      "predicting Pipeline(NMF(50), KNN(k=1, distancefunction=cosine)) with k=5\n",
      "{'modelname': 'Pipeline(NMF(50), KNN(k=1, distancefunction=cosine))(different-k)', 'k': 5, 'accuracy': 0.805}\n",
      "predicting Pipeline(NMF(50), KNN(k=1, distancefunction=cosine)) with k=9\n",
      "{'modelname': 'Pipeline(NMF(50), KNN(k=1, distancefunction=cosine))(different-k)', 'k': 9, 'accuracy': 0.8065}\n",
      "predicting Pipeline(NMF(50), KNN(k=1, distancefunction=cosine)) with k=17\n",
      "{'modelname': 'Pipeline(NMF(50), KNN(k=1, distancefunction=cosine))(different-k)', 'k': 17, 'accuracy': 0.794}\n",
      "predicting Pipeline(NMF(50), KNN(k=1, distancefunction=cosine)) with k=33\n",
      "{'modelname': 'Pipeline(NMF(50), KNN(k=1, distancefunction=cosine))(different-k)', 'k': 33, 'accuracy': 0.7815}\n",
      "predicting Pipeline(NMF(50), KNN(k=1, distancefunction=cosine)) with k=65\n",
      "{'modelname': 'Pipeline(NMF(50), KNN(k=1, distancefunction=cosine))(different-k)', 'k': 65, 'accuracy': 0.767}\n",
      "predicting Pipeline(NMF(50), KNN(k=1, distancefunction=cosine)) with k=129\n",
      "{'modelname': 'Pipeline(NMF(50), KNN(k=1, distancefunction=cosine))(different-k)', 'k': 129, 'accuracy': 0.755}\n",
      "predicting Pipeline(NMF(50), KNN(k=1, distancefunction=cosine)) with k=2\n",
      "{'modelname': 'Pipeline(NMF(50), KNN(k=1, distancefunction=cosine))', 'accuracy': 0.803, 'k': 1}\n",
      "predicting Pipeline(NMF(50), KNN(k=1, distancefunction=cosine)) with k=3\n"
     ]
    },
    {
     "name": "stdout",
     "output_type": "stream",
     "text": [
      "{'modelname': 'Pipeline(NMF(50), KNN(k=1, distancefunction=cosine))(different-k)', 'k': 3, 'accuracy': 0.809}\n",
      "predicting Pipeline(NMF(50), KNN(k=1, distancefunction=cosine)) with k=5\n",
      "{'modelname': 'Pipeline(NMF(50), KNN(k=1, distancefunction=cosine))(different-k)', 'k': 5, 'accuracy': 0.8075}\n",
      "predicting Pipeline(NMF(50), KNN(k=1, distancefunction=cosine)) with k=9\n",
      "{'modelname': 'Pipeline(NMF(50), KNN(k=1, distancefunction=cosine))(different-k)', 'k': 9, 'accuracy': 0.804}\n",
      "predicting Pipeline(NMF(50), KNN(k=1, distancefunction=cosine)) with k=17\n",
      "{'modelname': 'Pipeline(NMF(50), KNN(k=1, distancefunction=cosine))(different-k)', 'k': 17, 'accuracy': 0.795}\n",
      "predicting Pipeline(NMF(50), KNN(k=1, distancefunction=cosine)) with k=33\n",
      "{'modelname': 'Pipeline(NMF(50), KNN(k=1, distancefunction=cosine))(different-k)', 'k': 33, 'accuracy': 0.7795}\n",
      "predicting Pipeline(NMF(50), KNN(k=1, distancefunction=cosine)) with k=65\n",
      "{'modelname': 'Pipeline(NMF(50), KNN(k=1, distancefunction=cosine))(different-k)', 'k': 65, 'accuracy': 0.767}\n",
      "predicting Pipeline(NMF(50), KNN(k=1, distancefunction=cosine)) with k=129\n",
      "{'modelname': 'Pipeline(NMF(50), KNN(k=1, distancefunction=cosine))(different-k)', 'k': 129, 'accuracy': 0.754}\n"
     ]
    }
   ],
   "source": [
    "mr = model_tools.ModelRunner()\n",
    "mr.load_data()\n",
    "xtr, ytr, xte, yte = mr.xtr, mr.ytr, mr.xte, mr.yte\n",
    "\n",
    "ks = 2 ** np.arange(8) + 1\n",
    "\n",
    "res = []\n",
    "for model in models_to_test:\n",
    "    print(f'training {model}')\n",
    "    model.fit(xtr, ytr)\n",
    "    \n",
    "for model in models_to_test:\n",
    "    if model.is_knn:  # for knns, run with multiple ks (but save distances to save time)\n",
    "        k = ks[0]\n",
    "        print(f'predicting {model} with k={k}')\n",
    "        model.fit(xtr, ytr)\n",
    "        # first k\n",
    "        dists, preds = model.predict(xte, k=k, return_dists=True)\n",
    "        res.append(dict(\n",
    "            modelname=str(model),\n",
    "            accuracy=np.mean(yte == preds),\n",
    "            k=1\n",
    "        ))\n",
    "        print(res[-1])\n",
    "        for k in ks[1:]:\n",
    "            print(f'predicting {model} with k={k}')\n",
    "            preds = model.predict(xte, k=k, dists=dists)\n",
    "            res.append(dict(\n",
    "                modelname=str(model) + '(different-k)',\n",
    "                k=k,\n",
    "                accuracy=np.mean(yte == preds),\n",
    "            ))\n",
    "            print(res[-1])\n",
    "    else:  # not a knn model\n",
    "        print(f'predicting {model}')\n",
    "        res.append(dict(\n",
    "            modelname=str(model),\n",
    "            accuracy=np.mean(yte == model.predict(xte))\n",
    "        ))\n",
    "        print(res[-1])"
   ]
  },
  {
   "cell_type": "code",
   "execution_count": 54,
   "metadata": {},
   "outputs": [
    {
     "data": {
      "image/png": "[encoded data removed]",
      "text/plain": [
       "<Figure size 720x720 with 1 Axes>"
      ]
     },
     "metadata": {
      "needs_background": "light"
     },
     "output_type": "display_data"
    }
   ],
   "source": [
    "df = pd.DataFrame(res)\n",
    "df['redtype'] = list(map(lambda x: 'NMF' if 'NMF' in x else ('PCA' if \"PCA\" in x else ''), df['modelname']))\n",
    "import seaborn as sns\n",
    "ax = df[df['redtype'] == 'NMF'].sort_values('k').plot('k', 'accuracy', kind='line', label='NMF', title='Performance of KNN by Regularisation method and k', figsize=(10, 10), ylabel='accuracy')\n",
    "df[df['redtype'] == 'PCA'].sort_values('k').plot('k', 'accuracy', ax=ax, kind='line', label='PCA', color='green')\n",
    "df[df['redtype'] == ''].sort_values('k').plot('k', 'accuracy', ax=ax, kind='line', label='Neither', color='brown')\n",
    "plt.show()"
   ]
  },
  {
   "cell_type": "code",
   "execution_count": 103,
   "metadata": {
    "scrolled": false
   },
   "outputs": [
    {
     "name": "stderr",
     "output_type": "stream",
     "text": [
      "<ipython-input-103-ee8d93423826>:6: SettingWithCopyWarning: \n",
      "A value is trying to be set on a copy of a slice from a DataFrame.\n",
      "Try using .loc[row_indexer,col_indexer] = value instead\n",
      "\n",
      "See the caveats in the documentation: https://pandas.pydata.org/pandas-docs/stable/user_guide/indexing.html#returning-a-view-versus-a-copy\n",
      "  PCAs['components'] = list(map(pca_components, PCAs['modelname']))\n"
     ]
    },
    {
     "data": {
      "image/png": "[encoded data removed]",
      "text/plain": [
       "<Figure size 432x288 with 1 Axes>"
      ]
     },
     "metadata": {
      "needs_background": "light"
     },
     "output_type": "display_data"
    }
   ],
   "source": [
    "import re\n",
    "def pca_components(s):\n",
    "    m = re.search(r'PCA\\((\\d+)', s).group(1)\n",
    "    return int(m)\n",
    "\n",
    "PCAs['components'] = list(map(pca_components, PCAs['modelname']))\n"
   ]
  },
  {
   "cell_type": "code",
   "execution_count": 109,
   "metadata": {},
   "outputs": [
    {
     "ename": "ImportError",
     "evalue": "cannot import name 'plot_confusion_matrix' from 'comp5318_assignment1.model_tools' (/home/alexe/Documents/Uni/2020-2/ml-5318/assignment_1/comp5318_assignment1/model_tools.py)",
     "output_type": "error",
     "traceback": [
      "\u001b[0;31m---------------------------------------------------------------------------\u001b[0m",
      "\u001b[0;31mImportError\u001b[0m                               Traceback (most recent call last)",
      "\u001b[0;32m<ipython-input-109-17bbc5699f6c>\u001b[0m in \u001b[0;36m<module>\u001b[0;34m\u001b[0m\n\u001b[1;32m      1\u001b[0m \u001b[0mpred\u001b[0m \u001b[0;34m=\u001b[0m \u001b[0mmodels_to_test\u001b[0m\u001b[0;34m[\u001b[0m\u001b[0;36m0\u001b[0m\u001b[0;34m]\u001b[0m\u001b[0;34m.\u001b[0m\u001b[0mpredict\u001b[0m\u001b[0;34m(\u001b[0m\u001b[0mxte\u001b[0m\u001b[0;34m)\u001b[0m\u001b[0;34m\u001b[0m\u001b[0;34m\u001b[0m\u001b[0m\n\u001b[0;32m----> 2\u001b[0;31m \u001b[0;32mfrom\u001b[0m \u001b[0mcomp5318_assignment1\u001b[0m\u001b[0;34m.\u001b[0m\u001b[0mmodel_tools\u001b[0m \u001b[0;32mimport\u001b[0m \u001b[0mconfusion_matrix\u001b[0m\u001b[0;34m,\u001b[0m \u001b[0mplot_confusion_matrix\u001b[0m\u001b[0;34m\u001b[0m\u001b[0;34m\u001b[0m\u001b[0m\n\u001b[0m\u001b[1;32m      3\u001b[0m \u001b[0mplot_confuconfusion_matrix\u001b[0m\u001b[0;34m(\u001b[0m\u001b[0mpred\u001b[0m\u001b[0;34m,\u001b[0m \u001b[0myte\u001b[0m\u001b[0;34m)\u001b[0m\u001b[0;34m\u001b[0m\u001b[0;34m\u001b[0m\u001b[0m\n",
      "\u001b[0;31mImportError\u001b[0m: cannot import name 'plot_confusion_matrix' from 'comp5318_assignment1.model_tools' (/home/alexe/Documents/Uni/2020-2/ml-5318/assignment_1/comp5318_assignment1/model_tools.py)"
     ]
    }
   ],
   "source": [
    "pred = models_to_test[0].predict(xte)\n",
    "from comp5318_assignment1.model_tools import confusion_matrix, plot_confusion_matrix\n",
    "plot_confuconfusion_matrix(pred, yte)"
   ]
  },
  {
   "cell_type": "code",
   "execution_count": 118,
   "metadata": {},
   "outputs": [
    {
     "name": "stdout",
     "output_type": "stream",
     "text": [
      "running Pipeline(pca54, KNN(6))\n",
      "Pipeline(pca54, KNN(6)) got (0.843,)\n",
      "running Pipeline(pca60, KNN(6))\n",
      "Pipeline(pca60, KNN(6)) got (0.838,)\n",
      "running Pipeline(pca64, KNN(6))\n",
      "Pipeline(pca64, KNN(6)) got (0.8445,)\n",
      "running Pipeline(pca70, KNN(6))\n",
      "Pipeline(pca70, KNN(6)) got (0.8435,)\n",
      "running Pipeline(pca80, KNN(6))\n",
      "Pipeline(pca80, KNN(6)) got (0.836,)\n",
      "running Pipeline(pca100, KNN(6))\n",
      "Pipeline(pca100, KNN(6)) got (0.848,)\n",
      "running Pipeline(pca200, KNN(6))\n",
      "Pipeline(pca200, KNN(6)) got (0.8405,)\n"
     ]
    },
    {
     "data": {
      "text/plain": [
       "{'Pipeline(pca54, KNN(6))': (0.843,),\n",
       " 'Pipeline(pca60, KNN(6))': (0.838,),\n",
       " 'Pipeline(pca64, KNN(6))': (0.8445,),\n",
       " 'Pipeline(pca70, KNN(6))': (0.8435,),\n",
       " 'Pipeline(pca80, KNN(6))': (0.836,),\n",
       " 'Pipeline(pca100, KNN(6))': (0.848,),\n",
       " 'Pipeline(pca200, KNN(6))': (0.8405,)}"
      ]
     },
     "execution_count": 118,
     "metadata": {},
     "output_type": "execute_result"
    }
   ],
   "source": [
    "run_models = []\n",
    "for comp in [54, 60, 64, 70, 80, 100, 200]:\n",
    "    run_models.append(\n",
    "        model_tools.Pipeline(\n",
    "            [\n",
    "                (f'pca{comp}', decomposition.PCA(comp)),\n",
    "                (f'KNN(6)', models.KNN(6, weigh_voting=True, distancefunction='manhatten'))\n",
    "            ]\n",
    "        )\n",
    "    )\n",
    "mr = model_tools.ModelRunner(*run_models)\n",
    "mr.run(verbose=True)"
   ]
  },
  {
   "cell_type": "code",
   "execution_count": 119,
   "metadata": {},
   "outputs": [
    {
     "name": "stdout",
     "output_type": "stream",
     "text": [
      "manhatten\n",
      "{'Pipeline(pca64, knnmanhatten)': (0.8455,)}\n",
      "euclidian\n",
      "{'Pipeline(pca64, knneuclidian)': (0.833,)}\n",
      "cosine\n",
      "{'Pipeline(pca64, knncosine)': (0.848,)}\n"
     ]
    }
   ],
   "source": [
    "for dist in ['manhatten', 'euclidian', 'cosine']:\n",
    "    print(dist)\n",
    "    mr = model_tools.ModelRunner(\n",
    "        model_tools.Pipeline([\n",
    "            ('pca64', decomposition.PCA(64, normalize=False)),\n",
    "            ('knn' + dist, models.KNN(6, weigh_voting=True, distancefunction=dist))\n",
    "        ])\n",
    "    )\n",
    "    print(mr.run())"
   ]
  }
 ],
 "metadata": {
  "kernelspec": {
   "display_name": "Python 3",
   "language": "python",
   "name": "python3"
  },
  "language_info": {
   "codemirror_mode": {
    "name": "ipython",
    "version": 3
   },
   "file_extension": ".py",
   "mimetype": "text/x-python",
   "name": "python",
   "nbconvert_exporter": "python",
   "pygments_lexer": "ipython3",
   "version": "3.8.5"
  },
  "toc": {
   "base_numbering": 1,
   "nav_menu": {},
   "number_sections": true,
   "sideBar": true,
   "skip_h1_title": false,
   "title_cell": "Table of Contents",
   "title_sidebar": "Contents",
   "toc_cell": false,
   "toc_position": {},
   "toc_section_display": true,
   "toc_window_display": false
  }
 },
 "nbformat": 4,
 "nbformat_minor": 4
}
